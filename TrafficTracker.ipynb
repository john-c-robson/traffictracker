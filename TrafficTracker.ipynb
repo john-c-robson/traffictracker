{
 "cells": [
  {
   "cell_type": "code",
   "execution_count": 1,
   "metadata": {},
   "outputs": [
    {
     "name": "stdout",
     "output_type": "stream",
     "text": [
      "{0: (163, 79)}\n",
      "{1: (161, 122)}\n",
      "{1: (163, 127)}\n",
      "{1: (162, 136)}\n",
      "{1: (163, 149)}\n",
      "{1: (160, 144)}\n",
      "{1: (159, 153)}\n",
      "{1: (162, 174)}\n",
      "{1: (160, 168), 2: (158, 148)}\n",
      "{1: (159, 180)}\n",
      "{1: (158, 190)}\n",
      "{1: (158, 198)}\n",
      "{1: (158, 210)}\n",
      "{1: (157, 220)}\n",
      "{1: (156, 232)}\n",
      "{1: (156, 244)}\n",
      "{1: (156, 256)}\n",
      "{1: (155, 269)}\n",
      "{1: (154, 284)}\n",
      "{1: (153, 298)}\n",
      "{1: (152, 314)}\n",
      "{1: (151, 330)}\n",
      "{1: (150, 342)}\n",
      "{1: (148, 351)}\n",
      "{1: (145, 360)}\n",
      "{1: (143, 369)}\n",
      "{3: (207, 20)}\n",
      "{3: (207, 24)}\n",
      "{3: (208, 26)}\n",
      "{3: (208, 30)}\n",
      "{3: (208, 33)}\n",
      "{3: (209, 28)}\n",
      "{3: (208, 40)}\n",
      "{3: (208, 35)}\n",
      "{3: (209, 38)}\n",
      "{3: (209, 41)}\n",
      "{3: (208, 53)}\n",
      "{3: (209, 48)}\n"
     ]
    },
    {
     "ename": "KeyboardInterrupt",
     "evalue": "",
     "output_type": "error",
     "traceback": [
      "\u001b[1;31m---------------------------------------------------------------------------\u001b[0m",
      "\u001b[1;31mKeyboardInterrupt\u001b[0m                         Traceback (most recent call last)",
      "\u001b[1;32m<ipython-input-1-aa2dfdbc030e>\u001b[0m in \u001b[0;36m<module>\u001b[1;34m\u001b[0m\n\u001b[0;32m     43\u001b[0m \u001b[1;33m\u001b[0m\u001b[0m\n\u001b[0;32m     44\u001b[0m \u001b[1;33m\u001b[0m\u001b[0m\n\u001b[1;32m---> 45\u001b[1;33m     \u001b[0mkey\u001b[0m \u001b[1;33m=\u001b[0m \u001b[0mcv2\u001b[0m\u001b[1;33m.\u001b[0m\u001b[0mwaitKey\u001b[0m\u001b[1;33m(\u001b[0m\u001b[1;36m30\u001b[0m\u001b[1;33m)\u001b[0m\u001b[1;33m\u001b[0m\u001b[1;33m\u001b[0m\u001b[0m\n\u001b[0m\u001b[0;32m     46\u001b[0m     \u001b[1;32mif\u001b[0m \u001b[0mkey\u001b[0m \u001b[1;33m==\u001b[0m \u001b[1;36m27\u001b[0m\u001b[1;33m:\u001b[0m\u001b[1;33m\u001b[0m\u001b[1;33m\u001b[0m\u001b[0m\n\u001b[0;32m     47\u001b[0m         \u001b[1;32mbreak\u001b[0m\u001b[1;33m\u001b[0m\u001b[1;33m\u001b[0m\u001b[0m\n",
      "\u001b[1;31mKeyboardInterrupt\u001b[0m: "
     ]
    }
   ],
   "source": [
    "import cv2\n",
    "from tracker import *\n",
    "\n",
    "tracker = EuclideanDistTracker()\n",
    "\n",
    "cap = cv2.VideoCapture(\"highway.mp4\")\n",
    "\n",
    "object_detector = cv2.createBackgroundSubtractorMOG2(history=100, varThreshold=40)\n",
    "\n",
    "while True:\n",
    "    ret, frame = cap.read()\n",
    "    height, width, _ = frame.shape\n",
    "    #Extract region of interest\n",
    "    roi = frame[340 : 720 ,500 : 800]\n",
    "    \n",
    "    #object detection step 1\n",
    "    mask = object_detector.apply(roi)\n",
    "    _, mask = cv2.threshold(mask, 254, 255, cv2.THRESH_BINARY)\n",
    "    contours, _ = cv2.findContours(mask, cv2.RETR_TREE, cv2.CHAIN_APPROX_SIMPLE)\n",
    "    detections = []\n",
    "    \n",
    "    for cnt in contours:\n",
    "        #calculate area and remove small elements\n",
    "        area = cv2.contourArea(cnt)\n",
    "        if area > 100:\n",
    "            #cv2.drawContours(roi, [cnt], -1, (0, 255, 0), 2)\n",
    "            x ,y, w, h = cv2.boundingRect(cnt)\n",
    "            \n",
    "            \n",
    "            detections.append([x, y, w, h])\n",
    "    \n",
    "    #object tracking step 2\n",
    "    boxes_ids = tracker.update(detections)\n",
    "    for box_id in boxes_ids:\n",
    "        x,y,w,h, id = box_id\n",
    "        cv2.putText(roi, str(id), (x, y - 15), cv2.FONT_HERSHEY_PLAIN, 1, (255,0,0), 2)\n",
    "        cv2.rectangle(roi, (x,y), (x + w, y + h), (0, 255, 0), 3)\n",
    "     \n",
    "    \n",
    "    cv2.imshow(\"ROI\", roi)\n",
    "    cv2.imshow(\"Frame\", frame)\n",
    "    cv2.imshow(\"Mask\", mask)\n",
    "    \n",
    "     \n",
    "    key = cv2.waitKey(30)\n",
    "    if key == 27:\n",
    "        break\n",
    "      \n",
    "cap.release()\n",
    "cap.destoryAllWindows()\n"
   ]
  },
  {
   "cell_type": "code",
   "execution_count": null,
   "metadata": {},
   "outputs": [],
   "source": []
  }
 ],
 "metadata": {
  "kernelspec": {
   "display_name": "Python 3",
   "language": "python",
   "name": "python3"
  },
  "language_info": {
   "codemirror_mode": {
    "name": "ipython",
    "version": 3
   },
   "file_extension": ".py",
   "mimetype": "text/x-python",
   "name": "python",
   "nbconvert_exporter": "python",
   "pygments_lexer": "ipython3",
   "version": "3.8.5"
  }
 },
 "nbformat": 4,
 "nbformat_minor": 4
}
